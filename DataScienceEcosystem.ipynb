{
 "cells": [
  {
   "cell_type": "markdown",
   "id": "354a6c8f-435e-441c-8a98-e00d01c3770c",
   "metadata": {},
   "source": [
    "# Data Science Tools and Ecosystem"
   ]
  },
  {
   "cell_type": "markdown",
   "id": "7c850b42-261c-4c47-ac89-70132d17b89c",
   "metadata": {},
   "source": [
    "In this notebook, Data Science Tools and Ecosystem are summarized."
   ]
  },
  {
   "cell_type": "markdown",
   "id": "b1759263-9234-403c-8227-6010fd33737e",
   "metadata": {},
   "source": [
    "**Objectives:**\n",
    "- listing commonly libraries by data scientists \n",
    "- Make a table showing open scorce data science tools \n",
    "- Convert 200 miniuets to hours"
   ]
  },
  {
   "cell_type": "markdown",
   "id": "382cba74-8d9a-4bbe-aed9-1d25e7b4d9c1",
   "metadata": {},
   "source": [
    "Some of the popular languages that Data Scientists use are:\n",
    "    1. Python\n",
    "    2. R\n",
    "    3. SQL"
   ]
  },
  {
   "cell_type": "markdown",
   "id": "63bab07e-38e9-4dcc-9b7f-262fd7fd2e02",
   "metadata": {},
   "source": [
    "Some of the commonly used libraries used by Data Scientists include:\n",
    "    1. Numpy\n",
    "    2. Pandas \n",
    "    3. Numpy"
   ]
  },
  {
   "cell_type": "markdown",
   "id": "50976a76-1456-4f82-9ffd-5f2a9dbb3553",
   "metadata": {},
   "source": [
    "| Data Science Tools | \n",
    "| --- |\n",
    "| Rstudio |\n",
    "| ApacheHadoop |\n",
    "| RapidMine |"
   ]
  },
  {
   "cell_type": "code",
   "execution_count": null,
   "id": "b84cd5c8-383a-4464-acf9-d021681f8e91",
   "metadata": {},
   "outputs": [],
   "source": []
  },
  {
   "cell_type": "markdown",
   "id": "0c64c253-2b1b-47cf-a608-f881db7aadfa",
   "metadata": {},
   "source": [
    "### Below are a few examples of evaluating arithmetic expressions in Python"
   ]
  },
  {
   "cell_type": "code",
   "execution_count": 4,
   "id": "bcf8c79a-065e-4eda-b823-8a68d6643d86",
   "metadata": {},
   "outputs": [
    {
     "data": {
      "text/plain": [
       "17"
      ]
     },
     "execution_count": 4,
     "metadata": {},
     "output_type": "execute_result"
    }
   ],
   "source": [
    "# This a simple arithmetic expression to mutiply then add integers\n",
    "(3*4)+5"
   ]
  },
  {
   "cell_type": "code",
   "execution_count": 6,
   "id": "14ee2160-fba4-4ad7-8965-9ac24c3fbbca",
   "metadata": {},
   "outputs": [
    {
     "data": {
      "text/plain": [
       "3.3333333333333335"
      ]
     },
     "execution_count": 6,
     "metadata": {},
     "output_type": "execute_result"
    }
   ],
   "source": [
    "# This will convert 200 minutes to hours by diving by 60\n",
    "200/60 "
   ]
  },
  {
   "cell_type": "markdown",
   "id": "387a8e54-6c18-489a-94e8-88dc7a47895b",
   "metadata": {},
   "source": [
    "## Author \n",
    "MohamedAhmed Elbireir"
   ]
  }
 ],
 "metadata": {
  "kernelspec": {
   "display_name": "Python 3 (ipykernel)",
   "language": "python",
   "name": "python3"
  },
  "language_info": {
   "codemirror_mode": {
    "name": "ipython",
    "version": 3
   },
   "file_extension": ".py",
   "mimetype": "text/x-python",
   "name": "python",
   "nbconvert_exporter": "python",
   "pygments_lexer": "ipython3",
   "version": "3.11.5"
  }
 },
 "nbformat": 4,
 "nbformat_minor": 5
}
